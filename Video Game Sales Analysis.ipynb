{
 "cells": [
  {
   "cell_type": "code",
   "execution_count": 1,
   "id": "61eff878-252a-4b17-bf19-0f6134e2c69e",
   "metadata": {},
   "outputs": [],
   "source": [
    "# Video Game Sales Analysis\n",
    "\n",
    "## Step 1: Load and Explore the Data\n",
    "import pandas as pd"
   ]
  },
  {
   "cell_type": "code",
   "execution_count": 2,
   "id": "d9d51f97-6634-4c72-bc05-734c66d56b04",
   "metadata": {},
   "outputs": [],
   "source": [
    "# Load the dataset\n",
    "file_path = \"/Users/kevinrodsa/Desktop/Python/vgsales.csv\"\n",
    "df = pd.read_csv(file_path)"
   ]
  },
  {
   "cell_type": "code",
   "execution_count": 3,
   "id": "005521c1-1aed-45b1-8af4-94a3f1f4efb5",
   "metadata": {},
   "outputs": [
    {
     "name": "stdout",
     "output_type": "stream",
     "text": [
      "<class 'pandas.core.frame.DataFrame'>\n",
      "RangeIndex: 16598 entries, 0 to 16597\n",
      "Data columns (total 11 columns):\n",
      " #   Column        Non-Null Count  Dtype  \n",
      "---  ------        --------------  -----  \n",
      " 0   Rank          16598 non-null  int64  \n",
      " 1   Name          16598 non-null  object \n",
      " 2   Platform      16598 non-null  object \n",
      " 3   Year          16327 non-null  float64\n",
      " 4   Genre         16598 non-null  object \n",
      " 5   Publisher     16540 non-null  object \n",
      " 6   NA_Sales      16598 non-null  float64\n",
      " 7   EU_Sales      16598 non-null  float64\n",
      " 8   JP_Sales      16598 non-null  float64\n",
      " 9   Other_Sales   16598 non-null  float64\n",
      " 10  Global_Sales  16598 non-null  float64\n",
      "dtypes: float64(6), int64(1), object(4)\n",
      "memory usage: 1.4+ MB\n",
      "None\n",
      "   Rank                      Name Platform    Year         Genre Publisher  \\\n",
      "0     1                Wii Sports      Wii  2006.0        Sports  Nintendo   \n",
      "1     2         Super Mario Bros.      NES  1985.0      Platform  Nintendo   \n",
      "2     3            Mario Kart Wii      Wii  2008.0        Racing  Nintendo   \n",
      "3     4         Wii Sports Resort      Wii  2009.0        Sports  Nintendo   \n",
      "4     5  Pokemon Red/Pokemon Blue       GB  1996.0  Role-Playing  Nintendo   \n",
      "\n",
      "   NA_Sales  EU_Sales  JP_Sales  Other_Sales  Global_Sales  \n",
      "0     41.49     29.02      3.77         8.46         82.74  \n",
      "1     29.08      3.58      6.81         0.77         40.24  \n",
      "2     15.85     12.88      3.79         3.31         35.82  \n",
      "3     15.75     11.01      3.28         2.96         33.00  \n",
      "4     11.27      8.89     10.22         1.00         31.37  \n"
     ]
    }
   ],
   "source": [
    "# Check the structure of the data\n",
    "print(df.info())\n",
    "print(df.head())"
   ]
  },
  {
   "cell_type": "code",
   "execution_count": 4,
   "id": "c3215d8b-714e-4598-af6f-40bc564062a1",
   "metadata": {},
   "outputs": [],
   "source": [
    "## Step 2: Data Cleaning and Preprocessing\n",
    "\n",
    "# Drop rows with missing values\n",
    "df = df.dropna()"
   ]
  },
  {
   "cell_type": "code",
   "execution_count": 5,
   "id": "0268929b-bfa5-4773-ae11-d34d70bf2103",
   "metadata": {},
   "outputs": [],
   "source": [
    "# Create a new column for total sales\n",
    "df['Total_Sales'] = df['NA_Sales'] + df['EU_Sales'] + df['JP_Sales'] + df['Other_Sales']"
   ]
  },
  {
   "cell_type": "code",
   "execution_count": 6,
   "id": "bf133640-8807-49d6-bb5a-17606de32bda",
   "metadata": {},
   "outputs": [
    {
     "name": "stdout",
     "output_type": "stream",
     "text": [
      "1980.0 2020.0\n"
     ]
    }
   ],
   "source": [
    "# Check date range for years\n",
    "print(df['Year'].min(), df['Year'].max())"
   ]
  },
  {
   "cell_type": "code",
   "execution_count": 7,
   "id": "a97f12bd-5bb1-484f-855c-d2a6396bf4ae",
   "metadata": {},
   "outputs": [],
   "source": [
    "# Filter out rows with invalid or missing years\n",
    "df = df[(df['Year'] > 1980) & (df['Year'] <= 2020)]\n"
   ]
  },
  {
   "cell_type": "code",
   "execution_count": 8,
   "id": "84d12079-61f2-4a9b-af78-9fd68950e5fa",
   "metadata": {},
   "outputs": [
    {
     "name": "stdout",
     "output_type": "stream",
     "text": [
      "   Rank                      Name Platform    Year         Genre Publisher  \\\n",
      "0     1                Wii Sports      Wii  2006.0        Sports  Nintendo   \n",
      "1     2         Super Mario Bros.      NES  1985.0      Platform  Nintendo   \n",
      "2     3            Mario Kart Wii      Wii  2008.0        Racing  Nintendo   \n",
      "3     4         Wii Sports Resort      Wii  2009.0        Sports  Nintendo   \n",
      "4     5  Pokemon Red/Pokemon Blue       GB  1996.0  Role-Playing  Nintendo   \n",
      "\n",
      "   NA_Sales  EU_Sales  JP_Sales  Other_Sales  Global_Sales  Total_Sales  \n",
      "0     41.49     29.02      3.77         8.46         82.74        82.74  \n",
      "1     29.08      3.58      6.81         0.77         40.24        40.24  \n",
      "2     15.85     12.88      3.79         3.31         35.82        35.83  \n",
      "3     15.75     11.01      3.28         2.96         33.00        33.00  \n",
      "4     11.27      8.89     10.22         1.00         31.37        31.38  \n"
     ]
    }
   ],
   "source": [
    "# Check the updated dataset\n",
    "print(df.head())"
   ]
  },
  {
   "cell_type": "code",
   "execution_count": 9,
   "id": "e96b39f6-880d-4497-844c-cccb8cd2dfe8",
   "metadata": {},
   "outputs": [],
   "source": [
    "## Step 3: Exploratory Data Analysis (EDA)\n",
    "### Top 10 Platforms by Total Sales\n",
    "import matplotlib.pyplot as plt"
   ]
  },
  {
   "cell_type": "code",
   "execution_count": 10,
   "id": "fb709788-acbb-49b0-819c-30a18eaed924",
   "metadata": {},
   "outputs": [
    {
     "data": {
      "image/png": "[encoded data removed]",
      "text/plain": [
       "<Figure size 640x480 with 1 Axes>"
      ]
     },
     "metadata": {},
     "output_type": "display_data"
    }
   ],
   "source": [
    "# Top 10 platforms by total sales\n",
    "top_platforms = df.groupby('Platform')['Total_Sales'].sum().sort_values(ascending=False).head(10)\n",
    "\n",
    "plt.bar(top_platforms.index, top_platforms.values, color='skyblue')\n",
    "plt.title(\"Top 10 Platforms by Total Sales\")\n",
    "plt.xlabel(\"Platform\")\n",
    "plt.ylabel(\"Total Sales (in millions)\")\n",
    "plt.xticks(rotation=45)\n",
    "plt.show()"
   ]
  },
  {
   "cell_type": "code",
   "execution_count": 11,
   "id": "56d4ca4f-5114-4299-9a92-2c382b42e128",
   "metadata": {},
   "outputs": [
    {
     "data": {
      "image/png": "[encoded data removed]",
      "text/plain": [
       "<Figure size 640x480 with 1 Axes>"
      ]
     },
     "metadata": {},
     "output_type": "display_data"
    }
   ],
   "source": [
    "### Global Sales Trends Over Time\n",
    "\n",
    "# Sales trends over the years\n",
    "sales_per_year = df.groupby('Year')['Total_Sales'].sum()\n",
    "\n",
    "plt.plot(sales_per_year.index, sales_per_year.values, marker='o', color='blue')\n",
    "plt.title(\"Global Sales Trends Over Time\")\n",
    "plt.xlabel(\"Year\")\n",
    "plt.ylabel(\"Total Sales (in millions)\")\n",
    "plt.grid()\n",
    "plt.show()"
   ]
  },
  {
   "cell_type": "code",
   "execution_count": 12,
   "id": "72ac45a9-b7b0-4041-aa7a-0825a9505224",
   "metadata": {},
   "outputs": [
    {
     "name": "stdout",
     "output_type": "stream",
     "text": [
      "Average sales per game: 0.540237071612824\n",
      "Top-selling game: Wii Sports\n"
     ]
    }
   ],
   "source": [
    "## Step 4: Descriptive Statistics and Insights\n",
    "\n",
    "# Basic statistics\n",
    "print(\"Average sales per game:\", df['Total_Sales'].mean())\n",
    "print(\"Top-selling game:\", df.loc[df['Total_Sales'].idxmax(), 'Name'])"
   ]
  },
  {
   "cell_type": "code",
   "execution_count": 13,
   "id": "6fccf30b-2e33-4404-9960-f0ff7afd7894",
   "metadata": {},
   "outputs": [
    {
     "name": "stdout",
     "output_type": "stream",
     "text": [
      "Regional Sales Breakdown:\n",
      "NA_Sales       4317.06\n",
      "EU_Sales       2406.02\n",
      "JP_Sales       1284.27\n",
      "Other_Sales     788.79\n",
      "dtype: float64\n"
     ]
    }
   ],
   "source": [
    "# Regional sales summary\n",
    "regional_sales = df[['NA_Sales', 'EU_Sales', 'JP_Sales', 'Other_Sales']].sum()\n",
    "print(\"Regional Sales Breakdown:\")\n",
    "print(regional_sales)"
   ]
  },
  {
   "cell_type": "code",
   "execution_count": 14,
   "id": "f9f509d6-e762-4c75-8457-adbc774ece6e",
   "metadata": {},
   "outputs": [],
   "source": [
    "## Step 5: Predictive Analysis with Linear Regression\n",
    "\n",
    "from sklearn.model_selection import train_test_split\n",
    "from sklearn.linear_model import LinearRegression\n",
    "import numpy as np"
   ]
  },
  {
   "cell_type": "code",
   "execution_count": 15,
   "id": "026ba101-5c1e-4795-94b4-c09bf1e3c578",
   "metadata": {},
   "outputs": [],
   "source": [
    "# Prepare the data: group sales by year\n",
    "yearly_sales = df.groupby('Year')['Total_Sales'].sum().reset_index()"
   ]
  },
  {
   "cell_type": "code",
   "execution_count": 16,
   "id": "a6f21198-3b10-4ad5-a9fb-bdc43a831e55",
   "metadata": {},
   "outputs": [],
   "source": [
    "# Define the features (X) and target (y)\n",
    "X = yearly_sales[['Year']]  # Feature: Year\n",
    "y = yearly_sales['Total_Sales']  # Target: Total Sales"
   ]
  },
  {
   "cell_type": "code",
   "execution_count": 17,
   "id": "d814a147-3820-466a-b2d2-50c1bef3f10e",
   "metadata": {},
   "outputs": [],
   "source": [
    "# Split data into training and testing sets\n",
    "X_train, X_test, y_train, y_test = train_test_split(X, y, test_size=0.2, random_state=42)"
   ]
  },
  {
   "cell_type": "code",
   "execution_count": 18,
   "id": "9e04ce6c-f6cb-4f40-88f4-51d991467752",
   "metadata": {},
   "outputs": [
    {
     "data": {
      "text/html": [
       "<style>#sk-container-id-1 {color: black;}#sk-container-id-1 pre{padding: 0;}#sk-container-id-1 div.sk-toggleable {background-color: white;}#sk-container-id-1 label.sk-toggleable__label {cursor: pointer;display: block;width: 100%;margin-bottom: 0;padding: 0.3em;box-sizing: border-box;text-align: center;}#sk-container-id-1 label.sk-toggleable__label-arrow:before {content: \"▸\";float: left;margin-right: 0.25em;color: #696969;}#sk-container-id-1 label.sk-toggleable__label-arrow:hover:before {color: black;}#sk-container-id-1 div.sk-estimator:hover label.sk-toggleable__label-arrow:before {color: black;}#sk-container-id-1 div.sk-toggleable__content {max-height: 0;max-width: 0;overflow: hidden;text-align: left;background-color: #f0f8ff;}#sk-container-id-1 div.sk-toggleable__content pre {margin: 0.2em;color: black;border-radius: 0.25em;background-color: #f0f8ff;}#sk-container-id-1 input.sk-toggleable__control:checked~div.sk-toggleable__content {max-height: 200px;max-width: 100%;overflow: auto;}#sk-container-id-1 input.sk-toggleable__control:checked~label.sk-toggleable__label-arrow:before {content: \"▾\";}#sk-container-id-1 div.sk-estimator input.sk-toggleable__control:checked~label.sk-toggleable__label {background-color: #d4ebff;}#sk-container-id-1 div.sk-label input.sk-toggleable__control:checked~label.sk-toggleable__label {background-color: #d4ebff;}#sk-container-id-1 input.sk-hidden--visually {border: 0;clip: rect(1px 1px 1px 1px);clip: rect(1px, 1px, 1px, 1px);height: 1px;margin: -1px;overflow: hidden;padding: 0;position: absolute;width: 1px;}#sk-container-id-1 div.sk-estimator {font-family: monospace;background-color: #f0f8ff;border: 1px dotted black;border-radius: 0.25em;box-sizing: border-box;margin-bottom: 0.5em;}#sk-container-id-1 div.sk-estimator:hover {background-color: #d4ebff;}#sk-container-id-1 div.sk-parallel-item::after {content: \"\";width: 100%;border-bottom: 1px solid gray;flex-grow: 1;}#sk-container-id-1 div.sk-label:hover label.sk-toggleable__label {background-color: #d4ebff;}#sk-container-id-1 div.sk-serial::before {content: \"\";position: absolute;border-left: 1px solid gray;box-sizing: border-box;top: 0;bottom: 0;left: 50%;z-index: 0;}#sk-container-id-1 div.sk-serial {display: flex;flex-direction: column;align-items: center;background-color: white;padding-right: 0.2em;padding-left: 0.2em;position: relative;}#sk-container-id-1 div.sk-item {position: relative;z-index: 1;}#sk-container-id-1 div.sk-parallel {display: flex;align-items: stretch;justify-content: center;background-color: white;position: relative;}#sk-container-id-1 div.sk-item::before, #sk-container-id-1 div.sk-parallel-item::before {content: \"\";position: absolute;border-left: 1px solid gray;box-sizing: border-box;top: 0;bottom: 0;left: 50%;z-index: -1;}#sk-container-id-1 div.sk-parallel-item {display: flex;flex-direction: column;z-index: 1;position: relative;background-color: white;}#sk-container-id-1 div.sk-parallel-item:first-child::after {align-self: flex-end;width: 50%;}#sk-container-id-1 div.sk-parallel-item:last-child::after {align-self: flex-start;width: 50%;}#sk-container-id-1 div.sk-parallel-item:only-child::after {width: 0;}#sk-container-id-1 div.sk-dashed-wrapped {border: 1px dashed gray;margin: 0 0.4em 0.5em 0.4em;box-sizing: border-box;padding-bottom: 0.4em;background-color: white;}#sk-container-id-1 div.sk-label label {font-family: monospace;font-weight: bold;display: inline-block;line-height: 1.2em;}#sk-container-id-1 div.sk-label-container {text-align: center;}#sk-container-id-1 div.sk-container {/* jupyter's `normalize.less` sets `[hidden] { display: none; }` but bootstrap.min.css set `[hidden] { display: none !important; }` so we also need the `!important` here to be able to override the default hidden behavior on the sphinx rendered scikit-learn.org. See: https://github.com/scikit-learn/scikit-learn/issues/21755 */display: inline-block !important;position: relative;}#sk-container-id-1 div.sk-text-repr-fallback {display: none;}</style><div id=\"sk-container-id-1\" class=\"sk-top-container\"><div class=\"sk-text-repr-fallback\"><pre>LinearRegression()</pre><b>In a Jupyter environment, please rerun this cell to show the HTML representation or trust the notebook. <br />On GitHub, the HTML representation is unable to render, please try loading this page with nbviewer.org.</b></div><div class=\"sk-container\" hidden><div class=\"sk-item\"><div class=\"sk-estimator sk-toggleable\"><input class=\"sk-toggleable__control sk-hidden--visually\" id=\"sk-estimator-id-1\" type=\"checkbox\" checked><label for=\"sk-estimator-id-1\" class=\"sk-toggleable__label sk-toggleable__label-arrow\">LinearRegression</label><div class=\"sk-toggleable__content\"><pre>LinearRegression()</pre></div></div></div></div></div>"
      ],
      "text/plain": [
       "LinearRegression()"
      ]
     },
     "execution_count": 18,
     "metadata": {},
     "output_type": "execute_result"
    }
   ],
   "source": [
    "# Initialize and train the linear regression model\n",
    "model = LinearRegression()\n",
    "model.fit(X_train, y_train)"
   ]
  },
  {
   "cell_type": "code",
   "execution_count": 19,
   "id": "68692ff5-b4e8-4ec7-a7f5-66e04a0bc4a3",
   "metadata": {},
   "outputs": [
    {
     "name": "stdout",
     "output_type": "stream",
     "text": [
      "R-squared Score: 0.22\n"
     ]
    }
   ],
   "source": [
    "# Check the model's performance\n",
    "r2_score = model.score(X_test, y_test)\n",
    "print(f\"R-squared Score: {r2_score:.2f}\")"
   ]
  },
  {
   "cell_type": "code",
   "execution_count": 20,
   "id": "19789aae-ea73-4c38-a21b-c6e5a9df2971",
   "metadata": {},
   "outputs": [],
   "source": [
    "# Forecast future sales\n",
    "future_years = pd.DataFrame({'Year': np.arange(2021, 2026)})  # Predict for 2021-2025\n",
    "future_sales = model.predict(future_years)"
   ]
  },
  {
   "cell_type": "code",
   "execution_count": 21,
   "id": "826d1d33-03a0-4afa-b7e6-cb0c905675b9",
   "metadata": {},
   "outputs": [
    {
     "name": "stdout",
     "output_type": "stream",
     "text": [
      "\n",
      "Future Sales Predictions:\n",
      "   Year  Predicted_Sales\n",
      "0  2021       447.479775\n",
      "1  2022       457.813675\n",
      "2  2023       468.147576\n",
      "3  2024       478.481476\n",
      "4  2025       488.815376\n"
     ]
    }
   ],
   "source": [
    "# Combine predictions into a DataFrame\n",
    "predictions = pd.DataFrame({\n",
    "    'Year': future_years['Year'],\n",
    "    'Predicted_Sales': future_sales\n",
    "})\n",
    "\n",
    "print(\"\\nFuture Sales Predictions:\")\n",
    "print(predictions)"
   ]
  },
  {
   "cell_type": "code",
   "execution_count": 22,
   "id": "a1100b84-7fd6-47c7-96af-e3723b7cfe71",
   "metadata": {},
   "outputs": [],
   "source": [
    "## Conclusion\n",
    "\n",
    "# The analysis revealed several key insights:\n",
    "#\n",
    "# 1. **Top-Performing Platforms**:\n",
    "#    - Platforms such as PS2, Xbox 360, and Wii were identified as the top-performing platforms based on total sales.\n",
    "#    - These platforms collectively accounted for a significant portion of total global sales.\n",
    "#\n",
    "# 2. **Global Sales Trends**:\n",
    "#    - Total global sales showed a clear peak around 2008–2009, coinciding with the release of several high-performing games and console popularity.\n",
    "#    - Sales began to decline after this period, reflecting changes in the gaming industry or market saturation.\n",
    "#\n",
    "# 3. **Regional Performance**:\n",
    "#    - North America led in total sales, followed by Europe, with Japan contributing a smaller but notable portion.\n",
    "#    - \"Other\" regions also accounted for a measurable share, indicating a globally diversified market.\n",
    "#\n",
    "# 4. **Predicted Future Sales**:\n",
    "#    - Using a linear regression model, sales forecasts for 2021–2025 indicate a potential for slight growth.\n",
    "#    - While the R-squared score suggests some variability in the predictions, the trend points toward steady sales assuming no major industry disruptions.\n",
    "#\n",
    "# These findings provide valuable insights into historical performance and future expectations in the video game market. The results can guide strategic decisions for game developers, publishers, and platform providers.\n"
   ]
  },
  {
   "cell_type": "code",
   "execution_count": null,
   "id": "9800fbc2-8486-4b10-80f0-0465a6ad1357",
   "metadata": {},
   "outputs": [],
   "source": []
  }
 ],
 "metadata": {
  "kernelspec": {
   "display_name": "Python [conda env:base] *",
   "language": "python",
   "name": "conda-base-py"
  },
  "language_info": {
   "codemirror_mode": {
    "name": "ipython",
    "version": 3
   },
   "file_extension": ".py",
   "mimetype": "text/x-python",
   "name": "python",
   "nbconvert_exporter": "python",
   "pygments_lexer": "ipython3",
   "version": "3.11.5"
  }
 },
 "nbformat": 4,
 "nbformat_minor": 5
}
